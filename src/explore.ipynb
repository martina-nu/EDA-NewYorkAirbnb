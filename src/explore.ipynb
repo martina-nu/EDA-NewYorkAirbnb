{
    "cells": [
        {
            "cell_type": "markdown",
            "metadata": {},
            "source": [
                "# Exploratory Data Analysis"
            ]
        },
        {
            "cell_type": "markdown",
            "metadata": {},
            "source": [
                "## Importing libraries"
            ]
        },
        {
            "cell_type": "code",
            "execution_count": 1,
            "metadata": {},
            "outputs": [],
            "source": [
                "import pandas as pd \n",
                "import numpy as np \n",
                "import matplotlib.pyplot as plt \n",
                "#!pip install seaborn \n",
                "import seaborn as sns\n",
                "import folium\n",
                "from folium.plugins import MarkerCluster "
            ]
        },
        {
            "cell_type": "markdown",
            "metadata": {},
            "source": [
                "## Reading the dataset "
            ]
        },
        {
            "cell_type": "code",
            "execution_count": 2,
            "metadata": {},
            "outputs": [
                {
                    "data": {
                        "text/html": [
                            "<div>\n",
                            "<style scoped>\n",
                            "    .dataframe tbody tr th:only-of-type {\n",
                            "        vertical-align: middle;\n",
                            "    }\n",
                            "\n",
                            "    .dataframe tbody tr th {\n",
                            "        vertical-align: top;\n",
                            "    }\n",
                            "\n",
                            "    .dataframe thead th {\n",
                            "        text-align: right;\n",
                            "    }\n",
                            "</style>\n",
                            "<table border=\"1\" class=\"dataframe\">\n",
                            "  <thead>\n",
                            "    <tr style=\"text-align: right;\">\n",
                            "      <th></th>\n",
                            "      <th>id</th>\n",
                            "      <th>name</th>\n",
                            "      <th>host_id</th>\n",
                            "      <th>host_name</th>\n",
                            "      <th>neighbourhood_group</th>\n",
                            "      <th>neighbourhood</th>\n",
                            "      <th>latitude</th>\n",
                            "      <th>longitude</th>\n",
                            "      <th>room_type</th>\n",
                            "      <th>price</th>\n",
                            "      <th>minimum_nights</th>\n",
                            "      <th>number_of_reviews</th>\n",
                            "      <th>last_review</th>\n",
                            "      <th>reviews_per_month</th>\n",
                            "      <th>calculated_host_listings_count</th>\n",
                            "      <th>availability_365</th>\n",
                            "    </tr>\n",
                            "  </thead>\n",
                            "  <tbody>\n",
                            "    <tr>\n",
                            "      <th>18907</th>\n",
                            "      <td>15019959</td>\n",
                            "      <td>Amazing huge furnished room!</td>\n",
                            "      <td>445894</td>\n",
                            "      <td>Alexa</td>\n",
                            "      <td>Queens</td>\n",
                            "      <td>Elmhurst</td>\n",
                            "      <td>40.74596</td>\n",
                            "      <td>-73.87762</td>\n",
                            "      <td>Private room</td>\n",
                            "      <td>60</td>\n",
                            "      <td>2</td>\n",
                            "      <td>0</td>\n",
                            "      <td>NaN</td>\n",
                            "      <td>NaN</td>\n",
                            "      <td>2</td>\n",
                            "      <td>66</td>\n",
                            "    </tr>\n",
                            "    <tr>\n",
                            "      <th>46663</th>\n",
                            "      <td>35373956</td>\n",
                            "      <td>Fun 3 Bedroom Just Minutes to Manhattan!!</td>\n",
                            "      <td>266299609</td>\n",
                            "      <td>Nick</td>\n",
                            "      <td>Queens</td>\n",
                            "      <td>Astoria</td>\n",
                            "      <td>40.75883</td>\n",
                            "      <td>-73.92160</td>\n",
                            "      <td>Entire home/apt</td>\n",
                            "      <td>250</td>\n",
                            "      <td>2</td>\n",
                            "      <td>0</td>\n",
                            "      <td>NaN</td>\n",
                            "      <td>NaN</td>\n",
                            "      <td>1</td>\n",
                            "      <td>282</td>\n",
                            "    </tr>\n",
                            "    <tr>\n",
                            "      <th>19757</th>\n",
                            "      <td>15818624</td>\n",
                            "      <td>Sunny and spacious  1-bedroom in Brooklyn</td>\n",
                            "      <td>18192430</td>\n",
                            "      <td>Jamie</td>\n",
                            "      <td>Brooklyn</td>\n",
                            "      <td>Fort Greene</td>\n",
                            "      <td>40.69670</td>\n",
                            "      <td>-73.97477</td>\n",
                            "      <td>Private room</td>\n",
                            "      <td>80</td>\n",
                            "      <td>1</td>\n",
                            "      <td>53</td>\n",
                            "      <td>2018-06-01</td>\n",
                            "      <td>2.15</td>\n",
                            "      <td>1</td>\n",
                            "      <td>0</td>\n",
                            "    </tr>\n",
                            "    <tr>\n",
                            "      <th>9705</th>\n",
                            "      <td>7460933</td>\n",
                            "      <td>Large Private Room in Greenpoint/ Williamsburg</td>\n",
                            "      <td>12738054</td>\n",
                            "      <td>Aude</td>\n",
                            "      <td>Brooklyn</td>\n",
                            "      <td>Greenpoint</td>\n",
                            "      <td>40.72435</td>\n",
                            "      <td>-73.95154</td>\n",
                            "      <td>Private room</td>\n",
                            "      <td>95</td>\n",
                            "      <td>1</td>\n",
                            "      <td>119</td>\n",
                            "      <td>2019-06-24</td>\n",
                            "      <td>2.57</td>\n",
                            "      <td>2</td>\n",
                            "      <td>1</td>\n",
                            "    </tr>\n",
                            "    <tr>\n",
                            "      <th>3322</th>\n",
                            "      <td>1983531</td>\n",
                            "      <td>Spacious Bright 1 Bedroom East Village Apartment</td>\n",
                            "      <td>5586949</td>\n",
                            "      <td>S &amp; G</td>\n",
                            "      <td>Manhattan</td>\n",
                            "      <td>East Village</td>\n",
                            "      <td>40.72754</td>\n",
                            "      <td>-73.98555</td>\n",
                            "      <td>Entire home/apt</td>\n",
                            "      <td>450</td>\n",
                            "      <td>3</td>\n",
                            "      <td>12</td>\n",
                            "      <td>2019-01-02</td>\n",
                            "      <td>0.19</td>\n",
                            "      <td>2</td>\n",
                            "      <td>0</td>\n",
                            "    </tr>\n",
                            "    <tr>\n",
                            "      <th>12637</th>\n",
                            "      <td>9705782</td>\n",
                            "      <td>Spacious Brooklyn Brownstone 3BR+</td>\n",
                            "      <td>8144242</td>\n",
                            "      <td>Kerry</td>\n",
                            "      <td>Brooklyn</td>\n",
                            "      <td>Bedford-Stuyvesant</td>\n",
                            "      <td>40.68382</td>\n",
                            "      <td>-73.95566</td>\n",
                            "      <td>Entire home/apt</td>\n",
                            "      <td>300</td>\n",
                            "      <td>2</td>\n",
                            "      <td>24</td>\n",
                            "      <td>2017-07-04</td>\n",
                            "      <td>0.56</td>\n",
                            "      <td>1</td>\n",
                            "      <td>0</td>\n",
                            "    </tr>\n",
                            "    <tr>\n",
                            "      <th>19383</th>\n",
                            "      <td>15468765</td>\n",
                            "      <td>Quiet &amp; Spacious Brooklyn Apt for Cat-Lovers</td>\n",
                            "      <td>12063606</td>\n",
                            "      <td>Nicole</td>\n",
                            "      <td>Brooklyn</td>\n",
                            "      <td>Crown Heights</td>\n",
                            "      <td>40.67747</td>\n",
                            "      <td>-73.94660</td>\n",
                            "      <td>Entire home/apt</td>\n",
                            "      <td>90</td>\n",
                            "      <td>9</td>\n",
                            "      <td>7</td>\n",
                            "      <td>2019-05-12</td>\n",
                            "      <td>0.54</td>\n",
                            "      <td>1</td>\n",
                            "      <td>0</td>\n",
                            "    </tr>\n",
                            "    <tr>\n",
                            "      <th>35358</th>\n",
                            "      <td>28047011</td>\n",
                            "      <td>Huge room in great area, 25 minutes from Manha...</td>\n",
                            "      <td>70260514</td>\n",
                            "      <td>Daphna</td>\n",
                            "      <td>Queens</td>\n",
                            "      <td>Woodside</td>\n",
                            "      <td>40.74588</td>\n",
                            "      <td>-73.89721</td>\n",
                            "      <td>Private room</td>\n",
                            "      <td>45</td>\n",
                            "      <td>4</td>\n",
                            "      <td>4</td>\n",
                            "      <td>2018-12-14</td>\n",
                            "      <td>0.43</td>\n",
                            "      <td>1</td>\n",
                            "      <td>0</td>\n",
                            "    </tr>\n",
                            "    <tr>\n",
                            "      <th>28001</th>\n",
                            "      <td>21884557</td>\n",
                            "      <td>Brooklyn Home in the Heart of it All</td>\n",
                            "      <td>23005139</td>\n",
                            "      <td>Samantha</td>\n",
                            "      <td>Brooklyn</td>\n",
                            "      <td>Crown Heights</td>\n",
                            "      <td>40.67512</td>\n",
                            "      <td>-73.96185</td>\n",
                            "      <td>Private room</td>\n",
                            "      <td>55</td>\n",
                            "      <td>3</td>\n",
                            "      <td>0</td>\n",
                            "      <td>NaN</td>\n",
                            "      <td>NaN</td>\n",
                            "      <td>1</td>\n",
                            "      <td>0</td>\n",
                            "    </tr>\n",
                            "    <tr>\n",
                            "      <th>7201</th>\n",
                            "      <td>5267177</td>\n",
                            "      <td>Spacious 1BR Bushwick Surfers Loft!</td>\n",
                            "      <td>27263990</td>\n",
                            "      <td>Lindsey</td>\n",
                            "      <td>Brooklyn</td>\n",
                            "      <td>Bushwick</td>\n",
                            "      <td>40.69544</td>\n",
                            "      <td>-73.93046</td>\n",
                            "      <td>Entire home/apt</td>\n",
                            "      <td>110</td>\n",
                            "      <td>3</td>\n",
                            "      <td>0</td>\n",
                            "      <td>NaN</td>\n",
                            "      <td>NaN</td>\n",
                            "      <td>1</td>\n",
                            "      <td>0</td>\n",
                            "    </tr>\n",
                            "  </tbody>\n",
                            "</table>\n",
                            "</div>"
                        ],
                        "text/plain": [
                            "             id                                               name    host_id  \\\n",
                            "18907  15019959                       Amazing huge furnished room!     445894   \n",
                            "46663  35373956          Fun 3 Bedroom Just Minutes to Manhattan!!  266299609   \n",
                            "19757  15818624          Sunny and spacious  1-bedroom in Brooklyn   18192430   \n",
                            "9705    7460933     Large Private Room in Greenpoint/ Williamsburg   12738054   \n",
                            "3322    1983531   Spacious Bright 1 Bedroom East Village Apartment    5586949   \n",
                            "12637   9705782                  Spacious Brooklyn Brownstone 3BR+    8144242   \n",
                            "19383  15468765       Quiet & Spacious Brooklyn Apt for Cat-Lovers   12063606   \n",
                            "35358  28047011  Huge room in great area, 25 minutes from Manha...   70260514   \n",
                            "28001  21884557               Brooklyn Home in the Heart of it All   23005139   \n",
                            "7201    5267177                Spacious 1BR Bushwick Surfers Loft!   27263990   \n",
                            "\n",
                            "      host_name neighbourhood_group       neighbourhood  latitude  longitude  \\\n",
                            "18907     Alexa              Queens            Elmhurst  40.74596  -73.87762   \n",
                            "46663      Nick              Queens             Astoria  40.75883  -73.92160   \n",
                            "19757     Jamie            Brooklyn         Fort Greene  40.69670  -73.97477   \n",
                            "9705       Aude            Brooklyn          Greenpoint  40.72435  -73.95154   \n",
                            "3322      S & G           Manhattan        East Village  40.72754  -73.98555   \n",
                            "12637     Kerry            Brooklyn  Bedford-Stuyvesant  40.68382  -73.95566   \n",
                            "19383    Nicole            Brooklyn       Crown Heights  40.67747  -73.94660   \n",
                            "35358    Daphna              Queens            Woodside  40.74588  -73.89721   \n",
                            "28001  Samantha            Brooklyn       Crown Heights  40.67512  -73.96185   \n",
                            "7201    Lindsey            Brooklyn            Bushwick  40.69544  -73.93046   \n",
                            "\n",
                            "             room_type  price  minimum_nights  number_of_reviews last_review  \\\n",
                            "18907     Private room     60               2                  0         NaN   \n",
                            "46663  Entire home/apt    250               2                  0         NaN   \n",
                            "19757     Private room     80               1                 53  2018-06-01   \n",
                            "9705      Private room     95               1                119  2019-06-24   \n",
                            "3322   Entire home/apt    450               3                 12  2019-01-02   \n",
                            "12637  Entire home/apt    300               2                 24  2017-07-04   \n",
                            "19383  Entire home/apt     90               9                  7  2019-05-12   \n",
                            "35358     Private room     45               4                  4  2018-12-14   \n",
                            "28001     Private room     55               3                  0         NaN   \n",
                            "7201   Entire home/apt    110               3                  0         NaN   \n",
                            "\n",
                            "       reviews_per_month  calculated_host_listings_count  availability_365  \n",
                            "18907                NaN                               2                66  \n",
                            "46663                NaN                               1               282  \n",
                            "19757               2.15                               1                 0  \n",
                            "9705                2.57                               2                 1  \n",
                            "3322                0.19                               2                 0  \n",
                            "12637               0.56                               1                 0  \n",
                            "19383               0.54                               1                 0  \n",
                            "35358               0.43                               1                 0  \n",
                            "28001                NaN                               1                 0  \n",
                            "7201                 NaN                               1                 0  "
                        ]
                    },
                    "execution_count": 2,
                    "metadata": {},
                    "output_type": "execute_result"
                }
            ],
            "source": [
                "df = pd.read_csv('../data/raw/AB_NYC_2019.csv')\n",
                "df.sample(10, random_state = 1)"
            ]
        },
        {
            "cell_type": "markdown",
            "metadata": {},
            "source": [
                "## Finding dimensions, shape, size of the dataframe using Pandas."
            ]
        },
        {
            "cell_type": "code",
            "execution_count": 3,
            "metadata": {},
            "outputs": [
                {
                    "data": {
                        "text/plain": [
                            "(48895, 16)"
                        ]
                    },
                    "execution_count": 3,
                    "metadata": {},
                    "output_type": "execute_result"
                }
            ],
            "source": [
                "# how many rows and columns the dataset has\n",
                "df.shape"
            ]
        },
        {
            "cell_type": "code",
            "execution_count": 4,
            "metadata": {},
            "outputs": [
                {
                    "data": {
                        "text/html": [
                            "<div>\n",
                            "<style scoped>\n",
                            "    .dataframe tbody tr th:only-of-type {\n",
                            "        vertical-align: middle;\n",
                            "    }\n",
                            "\n",
                            "    .dataframe tbody tr th {\n",
                            "        vertical-align: top;\n",
                            "    }\n",
                            "\n",
                            "    .dataframe thead th {\n",
                            "        text-align: right;\n",
                            "    }\n",
                            "</style>\n",
                            "<table border=\"1\" class=\"dataframe\">\n",
                            "  <thead>\n",
                            "    <tr style=\"text-align: right;\">\n",
                            "      <th></th>\n",
                            "      <th>id</th>\n",
                            "      <th>name</th>\n",
                            "      <th>host_id</th>\n",
                            "      <th>host_name</th>\n",
                            "      <th>neighbourhood_group</th>\n",
                            "      <th>neighbourhood</th>\n",
                            "      <th>latitude</th>\n",
                            "      <th>longitude</th>\n",
                            "      <th>room_type</th>\n",
                            "      <th>price</th>\n",
                            "      <th>minimum_nights</th>\n",
                            "      <th>number_of_reviews</th>\n",
                            "      <th>last_review</th>\n",
                            "      <th>reviews_per_month</th>\n",
                            "      <th>calculated_host_listings_count</th>\n",
                            "      <th>availability_365</th>\n",
                            "    </tr>\n",
                            "  </thead>\n",
                            "  <tbody>\n",
                            "    <tr>\n",
                            "      <th>0</th>\n",
                            "      <td>2539</td>\n",
                            "      <td>Clean &amp; quiet apt home by the park</td>\n",
                            "      <td>2787</td>\n",
                            "      <td>John</td>\n",
                            "      <td>Brooklyn</td>\n",
                            "      <td>Kensington</td>\n",
                            "      <td>40.64749</td>\n",
                            "      <td>-73.97237</td>\n",
                            "      <td>Private room</td>\n",
                            "      <td>149</td>\n",
                            "      <td>1</td>\n",
                            "      <td>9</td>\n",
                            "      <td>2018-10-19</td>\n",
                            "      <td>0.21</td>\n",
                            "      <td>6</td>\n",
                            "      <td>365</td>\n",
                            "    </tr>\n",
                            "    <tr>\n",
                            "      <th>1</th>\n",
                            "      <td>2595</td>\n",
                            "      <td>Skylit Midtown Castle</td>\n",
                            "      <td>2845</td>\n",
                            "      <td>Jennifer</td>\n",
                            "      <td>Manhattan</td>\n",
                            "      <td>Midtown</td>\n",
                            "      <td>40.75362</td>\n",
                            "      <td>-73.98377</td>\n",
                            "      <td>Entire home/apt</td>\n",
                            "      <td>225</td>\n",
                            "      <td>1</td>\n",
                            "      <td>45</td>\n",
                            "      <td>2019-05-21</td>\n",
                            "      <td>0.38</td>\n",
                            "      <td>2</td>\n",
                            "      <td>355</td>\n",
                            "    </tr>\n",
                            "    <tr>\n",
                            "      <th>2</th>\n",
                            "      <td>3647</td>\n",
                            "      <td>THE VILLAGE OF HARLEM....NEW YORK !</td>\n",
                            "      <td>4632</td>\n",
                            "      <td>Elisabeth</td>\n",
                            "      <td>Manhattan</td>\n",
                            "      <td>Harlem</td>\n",
                            "      <td>40.80902</td>\n",
                            "      <td>-73.94190</td>\n",
                            "      <td>Private room</td>\n",
                            "      <td>150</td>\n",
                            "      <td>3</td>\n",
                            "      <td>0</td>\n",
                            "      <td>NaN</td>\n",
                            "      <td>NaN</td>\n",
                            "      <td>1</td>\n",
                            "      <td>365</td>\n",
                            "    </tr>\n",
                            "    <tr>\n",
                            "      <th>3</th>\n",
                            "      <td>3831</td>\n",
                            "      <td>Cozy Entire Floor of Brownstone</td>\n",
                            "      <td>4869</td>\n",
                            "      <td>LisaRoxanne</td>\n",
                            "      <td>Brooklyn</td>\n",
                            "      <td>Clinton Hill</td>\n",
                            "      <td>40.68514</td>\n",
                            "      <td>-73.95976</td>\n",
                            "      <td>Entire home/apt</td>\n",
                            "      <td>89</td>\n",
                            "      <td>1</td>\n",
                            "      <td>270</td>\n",
                            "      <td>2019-07-05</td>\n",
                            "      <td>4.64</td>\n",
                            "      <td>1</td>\n",
                            "      <td>194</td>\n",
                            "    </tr>\n",
                            "    <tr>\n",
                            "      <th>4</th>\n",
                            "      <td>5022</td>\n",
                            "      <td>Entire Apt: Spacious Studio/Loft by central park</td>\n",
                            "      <td>7192</td>\n",
                            "      <td>Laura</td>\n",
                            "      <td>Manhattan</td>\n",
                            "      <td>East Harlem</td>\n",
                            "      <td>40.79851</td>\n",
                            "      <td>-73.94399</td>\n",
                            "      <td>Entire home/apt</td>\n",
                            "      <td>80</td>\n",
                            "      <td>10</td>\n",
                            "      <td>9</td>\n",
                            "      <td>2018-11-19</td>\n",
                            "      <td>0.10</td>\n",
                            "      <td>1</td>\n",
                            "      <td>0</td>\n",
                            "    </tr>\n",
                            "  </tbody>\n",
                            "</table>\n",
                            "</div>"
                        ],
                        "text/plain": [
                            "     id                                              name  host_id  \\\n",
                            "0  2539                Clean & quiet apt home by the park     2787   \n",
                            "1  2595                             Skylit Midtown Castle     2845   \n",
                            "2  3647               THE VILLAGE OF HARLEM....NEW YORK !     4632   \n",
                            "3  3831                   Cozy Entire Floor of Brownstone     4869   \n",
                            "4  5022  Entire Apt: Spacious Studio/Loft by central park     7192   \n",
                            "\n",
                            "     host_name neighbourhood_group neighbourhood  latitude  longitude  \\\n",
                            "0         John            Brooklyn    Kensington  40.64749  -73.97237   \n",
                            "1     Jennifer           Manhattan       Midtown  40.75362  -73.98377   \n",
                            "2    Elisabeth           Manhattan        Harlem  40.80902  -73.94190   \n",
                            "3  LisaRoxanne            Brooklyn  Clinton Hill  40.68514  -73.95976   \n",
                            "4        Laura           Manhattan   East Harlem  40.79851  -73.94399   \n",
                            "\n",
                            "         room_type  price  minimum_nights  number_of_reviews last_review  \\\n",
                            "0     Private room    149               1                  9  2018-10-19   \n",
                            "1  Entire home/apt    225               1                 45  2019-05-21   \n",
                            "2     Private room    150               3                  0         NaN   \n",
                            "3  Entire home/apt     89               1                270  2019-07-05   \n",
                            "4  Entire home/apt     80              10                  9  2018-11-19   \n",
                            "\n",
                            "   reviews_per_month  calculated_host_listings_count  availability_365  \n",
                            "0               0.21                               6               365  \n",
                            "1               0.38                               2               355  \n",
                            "2                NaN                               1               365  \n",
                            "3               4.64                               1               194  \n",
                            "4               0.10                               1                 0  "
                        ]
                    },
                    "execution_count": 4,
                    "metadata": {},
                    "output_type": "execute_result"
                }
            ],
            "source": [
                "#First columns\n",
                "\n",
                "df.head()"
            ]
        },
        {
            "cell_type": "code",
            "execution_count": 5,
            "metadata": {},
            "outputs": [
                {
                    "data": {
                        "text/html": [
                            "<div>\n",
                            "<style scoped>\n",
                            "    .dataframe tbody tr th:only-of-type {\n",
                            "        vertical-align: middle;\n",
                            "    }\n",
                            "\n",
                            "    .dataframe tbody tr th {\n",
                            "        vertical-align: top;\n",
                            "    }\n",
                            "\n",
                            "    .dataframe thead th {\n",
                            "        text-align: right;\n",
                            "    }\n",
                            "</style>\n",
                            "<table border=\"1\" class=\"dataframe\">\n",
                            "  <thead>\n",
                            "    <tr style=\"text-align: right;\">\n",
                            "      <th></th>\n",
                            "      <th>id</th>\n",
                            "      <th>name</th>\n",
                            "      <th>host_id</th>\n",
                            "      <th>host_name</th>\n",
                            "      <th>neighbourhood_group</th>\n",
                            "      <th>neighbourhood</th>\n",
                            "      <th>latitude</th>\n",
                            "      <th>longitude</th>\n",
                            "      <th>room_type</th>\n",
                            "      <th>price</th>\n",
                            "      <th>minimum_nights</th>\n",
                            "      <th>number_of_reviews</th>\n",
                            "      <th>last_review</th>\n",
                            "      <th>reviews_per_month</th>\n",
                            "      <th>calculated_host_listings_count</th>\n",
                            "      <th>availability_365</th>\n",
                            "    </tr>\n",
                            "  </thead>\n",
                            "  <tbody>\n",
                            "    <tr>\n",
                            "      <th>48890</th>\n",
                            "      <td>36484665</td>\n",
                            "      <td>Charming one bedroom - newly renovated rowhouse</td>\n",
                            "      <td>8232441</td>\n",
                            "      <td>Sabrina</td>\n",
                            "      <td>Brooklyn</td>\n",
                            "      <td>Bedford-Stuyvesant</td>\n",
                            "      <td>40.67853</td>\n",
                            "      <td>-73.94995</td>\n",
                            "      <td>Private room</td>\n",
                            "      <td>70</td>\n",
                            "      <td>2</td>\n",
                            "      <td>0</td>\n",
                            "      <td>NaN</td>\n",
                            "      <td>NaN</td>\n",
                            "      <td>2</td>\n",
                            "      <td>9</td>\n",
                            "    </tr>\n",
                            "    <tr>\n",
                            "      <th>48891</th>\n",
                            "      <td>36485057</td>\n",
                            "      <td>Affordable room in Bushwick/East Williamsburg</td>\n",
                            "      <td>6570630</td>\n",
                            "      <td>Marisol</td>\n",
                            "      <td>Brooklyn</td>\n",
                            "      <td>Bushwick</td>\n",
                            "      <td>40.70184</td>\n",
                            "      <td>-73.93317</td>\n",
                            "      <td>Private room</td>\n",
                            "      <td>40</td>\n",
                            "      <td>4</td>\n",
                            "      <td>0</td>\n",
                            "      <td>NaN</td>\n",
                            "      <td>NaN</td>\n",
                            "      <td>2</td>\n",
                            "      <td>36</td>\n",
                            "    </tr>\n",
                            "    <tr>\n",
                            "      <th>48892</th>\n",
                            "      <td>36485431</td>\n",
                            "      <td>Sunny Studio at Historical Neighborhood</td>\n",
                            "      <td>23492952</td>\n",
                            "      <td>Ilgar &amp; Aysel</td>\n",
                            "      <td>Manhattan</td>\n",
                            "      <td>Harlem</td>\n",
                            "      <td>40.81475</td>\n",
                            "      <td>-73.94867</td>\n",
                            "      <td>Entire home/apt</td>\n",
                            "      <td>115</td>\n",
                            "      <td>10</td>\n",
                            "      <td>0</td>\n",
                            "      <td>NaN</td>\n",
                            "      <td>NaN</td>\n",
                            "      <td>1</td>\n",
                            "      <td>27</td>\n",
                            "    </tr>\n",
                            "    <tr>\n",
                            "      <th>48893</th>\n",
                            "      <td>36485609</td>\n",
                            "      <td>43rd St. Time Square-cozy single bed</td>\n",
                            "      <td>30985759</td>\n",
                            "      <td>Taz</td>\n",
                            "      <td>Manhattan</td>\n",
                            "      <td>Hell's Kitchen</td>\n",
                            "      <td>40.75751</td>\n",
                            "      <td>-73.99112</td>\n",
                            "      <td>Shared room</td>\n",
                            "      <td>55</td>\n",
                            "      <td>1</td>\n",
                            "      <td>0</td>\n",
                            "      <td>NaN</td>\n",
                            "      <td>NaN</td>\n",
                            "      <td>6</td>\n",
                            "      <td>2</td>\n",
                            "    </tr>\n",
                            "    <tr>\n",
                            "      <th>48894</th>\n",
                            "      <td>36487245</td>\n",
                            "      <td>Trendy duplex in the very heart of Hell's Kitchen</td>\n",
                            "      <td>68119814</td>\n",
                            "      <td>Christophe</td>\n",
                            "      <td>Manhattan</td>\n",
                            "      <td>Hell's Kitchen</td>\n",
                            "      <td>40.76404</td>\n",
                            "      <td>-73.98933</td>\n",
                            "      <td>Private room</td>\n",
                            "      <td>90</td>\n",
                            "      <td>7</td>\n",
                            "      <td>0</td>\n",
                            "      <td>NaN</td>\n",
                            "      <td>NaN</td>\n",
                            "      <td>1</td>\n",
                            "      <td>23</td>\n",
                            "    </tr>\n",
                            "  </tbody>\n",
                            "</table>\n",
                            "</div>"
                        ],
                        "text/plain": [
                            "             id                                               name   host_id  \\\n",
                            "48890  36484665    Charming one bedroom - newly renovated rowhouse   8232441   \n",
                            "48891  36485057      Affordable room in Bushwick/East Williamsburg   6570630   \n",
                            "48892  36485431            Sunny Studio at Historical Neighborhood  23492952   \n",
                            "48893  36485609               43rd St. Time Square-cozy single bed  30985759   \n",
                            "48894  36487245  Trendy duplex in the very heart of Hell's Kitchen  68119814   \n",
                            "\n",
                            "           host_name neighbourhood_group       neighbourhood  latitude  \\\n",
                            "48890        Sabrina            Brooklyn  Bedford-Stuyvesant  40.67853   \n",
                            "48891        Marisol            Brooklyn            Bushwick  40.70184   \n",
                            "48892  Ilgar & Aysel           Manhattan              Harlem  40.81475   \n",
                            "48893            Taz           Manhattan      Hell's Kitchen  40.75751   \n",
                            "48894     Christophe           Manhattan      Hell's Kitchen  40.76404   \n",
                            "\n",
                            "       longitude        room_type  price  minimum_nights  number_of_reviews  \\\n",
                            "48890  -73.94995     Private room     70               2                  0   \n",
                            "48891  -73.93317     Private room     40               4                  0   \n",
                            "48892  -73.94867  Entire home/apt    115              10                  0   \n",
                            "48893  -73.99112      Shared room     55               1                  0   \n",
                            "48894  -73.98933     Private room     90               7                  0   \n",
                            "\n",
                            "      last_review  reviews_per_month  calculated_host_listings_count  \\\n",
                            "48890         NaN                NaN                               2   \n",
                            "48891         NaN                NaN                               2   \n",
                            "48892         NaN                NaN                               1   \n",
                            "48893         NaN                NaN                               6   \n",
                            "48894         NaN                NaN                               1   \n",
                            "\n",
                            "       availability_365  \n",
                            "48890                 9  \n",
                            "48891                36  \n",
                            "48892                27  \n",
                            "48893                 2  \n",
                            "48894                23  "
                        ]
                    },
                    "execution_count": 5,
                    "metadata": {},
                    "output_type": "execute_result"
                }
            ],
            "source": [
                "#last columns\n",
                "\n",
                "df.tail()"
            ]
        },
        {
            "cell_type": "code",
            "execution_count": 6,
            "metadata": {},
            "outputs": [
                {
                    "name": "stdout",
                    "output_type": "stream",
                    "text": [
                        "<class 'pandas.core.frame.DataFrame'>\n",
                        "RangeIndex: 48895 entries, 0 to 48894\n",
                        "Data columns (total 16 columns):\n",
                        " #   Column                          Non-Null Count  Dtype  \n",
                        "---  ------                          --------------  -----  \n",
                        " 0   id                              48895 non-null  int64  \n",
                        " 1   name                            48879 non-null  object \n",
                        " 2   host_id                         48895 non-null  int64  \n",
                        " 3   host_name                       48874 non-null  object \n",
                        " 4   neighbourhood_group             48895 non-null  object \n",
                        " 5   neighbourhood                   48895 non-null  object \n",
                        " 6   latitude                        48895 non-null  float64\n",
                        " 7   longitude                       48895 non-null  float64\n",
                        " 8   room_type                       48895 non-null  object \n",
                        " 9   price                           48895 non-null  int64  \n",
                        " 10  minimum_nights                  48895 non-null  int64  \n",
                        " 11  number_of_reviews               48895 non-null  int64  \n",
                        " 12  last_review                     38843 non-null  object \n",
                        " 13  reviews_per_month               38843 non-null  float64\n",
                        " 14  calculated_host_listings_count  48895 non-null  int64  \n",
                        " 15  availability_365                48895 non-null  int64  \n",
                        "dtypes: float64(3), int64(7), object(6)\n",
                        "memory usage: 6.0+ MB\n"
                    ]
                }
            ],
            "source": [
                "#Data types and null values\n",
                "df.info()"
            ]
        },
        {
            "cell_type": "code",
            "execution_count": 7,
            "metadata": {},
            "outputs": [
                {
                    "data": {
                        "text/plain": [
                            "id                                    0\n",
                            "name                                 16\n",
                            "host_id                               0\n",
                            "host_name                            21\n",
                            "neighbourhood_group                   0\n",
                            "neighbourhood                         0\n",
                            "latitude                              0\n",
                            "longitude                             0\n",
                            "room_type                             0\n",
                            "price                                 0\n",
                            "minimum_nights                        0\n",
                            "number_of_reviews                     0\n",
                            "last_review                       10052\n",
                            "reviews_per_month                 10052\n",
                            "calculated_host_listings_count        0\n",
                            "availability_365                      0\n",
                            "dtype: int64"
                        ]
                    },
                    "execution_count": 7,
                    "metadata": {},
                    "output_type": "execute_result"
                }
            ],
            "source": [
                "df.isna().sum()"
            ]
        },
        {
            "cell_type": "code",
            "execution_count": 8,
            "metadata": {},
            "outputs": [
                {
                    "data": {
                        "text/plain": [
                            "20141"
                        ]
                    },
                    "execution_count": 8,
                    "metadata": {},
                    "output_type": "execute_result"
                }
            ],
            "source": [
                "df.isnull().values.sum()"
            ]
        },
        {
            "cell_type": "markdown",
            "metadata": {},
            "source": [
                "### Conclusions\n",
                "\n",
                "- The airbnb data set has 48895 rows and 16 columns\n",
                "- It has 10 numerical features and 6 categorical features.\n",
                "- There is missing data: Feature 'name' has 16 null values. Feature 'host_name' has 21 null values. Features \"last_review\" and \" reviews_per_month\" have 10052 null values.\n",
                "- There is a total of 20141 null values."
            ]
        },
        {
            "cell_type": "markdown",
            "metadata": {},
            "source": [
                "## Checking for duplicates"
            ]
        },
        {
            "cell_type": "code",
            "execution_count": 9,
            "metadata": {},
            "outputs": [
                {
                    "data": {
                        "text/plain": [
                            "0"
                        ]
                    },
                    "execution_count": 9,
                    "metadata": {},
                    "output_type": "execute_result"
                }
            ],
            "source": [
                "df.duplicated().sum()"
            ]
        },
        {
            "cell_type": "markdown",
            "metadata": {},
            "source": [
                "There are no duplicated rows."
            ]
        },
        {
            "cell_type": "code",
            "execution_count": 10,
            "metadata": {},
            "outputs": [
                {
                    "data": {
                        "text/plain": [
                            "11438"
                        ]
                    },
                    "execution_count": 10,
                    "metadata": {},
                    "output_type": "execute_result"
                }
            ],
            "source": [
                "df['host_id'].duplicated().sum()"
            ]
        },
        {
            "cell_type": "markdown",
            "metadata": {},
            "source": [
                "There seems to be more than one entry per host."
            ]
        },
        {
            "cell_type": "markdown",
            "metadata": {},
            "source": [
                "## Unique values\n"
            ]
        },
        {
            "cell_type": "code",
            "execution_count": 11,
            "metadata": {},
            "outputs": [
                {
                    "data": {
                        "text/plain": [
                            "id                                48895\n",
                            "name                              47905\n",
                            "host_id                           37457\n",
                            "host_name                         11452\n",
                            "neighbourhood_group                   5\n",
                            "neighbourhood                       221\n",
                            "latitude                          19048\n",
                            "longitude                         14718\n",
                            "room_type                             3\n",
                            "price                               674\n",
                            "minimum_nights                      109\n",
                            "number_of_reviews                   394\n",
                            "last_review                        1764\n",
                            "reviews_per_month                   937\n",
                            "calculated_host_listings_count       47\n",
                            "availability_365                    366\n",
                            "dtype: int64"
                        ]
                    },
                    "execution_count": 11,
                    "metadata": {},
                    "output_type": "execute_result"
                }
            ],
            "source": [
                "df.nunique()"
            ]
        },
        {
            "cell_type": "markdown",
            "metadata": {},
            "source": [
                "## Descriptive Statistics"
            ]
        },
        {
            "cell_type": "code",
            "execution_count": 12,
            "metadata": {},
            "outputs": [
                {
                    "data": {
                        "text/html": [
                            "<div>\n",
                            "<style scoped>\n",
                            "    .dataframe tbody tr th:only-of-type {\n",
                            "        vertical-align: middle;\n",
                            "    }\n",
                            "\n",
                            "    .dataframe tbody tr th {\n",
                            "        vertical-align: top;\n",
                            "    }\n",
                            "\n",
                            "    .dataframe thead th {\n",
                            "        text-align: right;\n",
                            "    }\n",
                            "</style>\n",
                            "<table border=\"1\" class=\"dataframe\">\n",
                            "  <thead>\n",
                            "    <tr style=\"text-align: right;\">\n",
                            "      <th></th>\n",
                            "      <th>id</th>\n",
                            "      <th>host_id</th>\n",
                            "      <th>latitude</th>\n",
                            "      <th>longitude</th>\n",
                            "      <th>price</th>\n",
                            "      <th>minimum_nights</th>\n",
                            "      <th>number_of_reviews</th>\n",
                            "      <th>reviews_per_month</th>\n",
                            "      <th>calculated_host_listings_count</th>\n",
                            "      <th>availability_365</th>\n",
                            "    </tr>\n",
                            "  </thead>\n",
                            "  <tbody>\n",
                            "    <tr>\n",
                            "      <th>count</th>\n",
                            "      <td>48895.00</td>\n",
                            "      <td>4.889500e+04</td>\n",
                            "      <td>48895.00</td>\n",
                            "      <td>48895.00</td>\n",
                            "      <td>48895.00</td>\n",
                            "      <td>48895.00</td>\n",
                            "      <td>48895.00</td>\n",
                            "      <td>38843.00</td>\n",
                            "      <td>48895.00</td>\n",
                            "      <td>48895.00</td>\n",
                            "    </tr>\n",
                            "    <tr>\n",
                            "      <th>mean</th>\n",
                            "      <td>19017143.24</td>\n",
                            "      <td>6.762001e+07</td>\n",
                            "      <td>40.73</td>\n",
                            "      <td>-73.95</td>\n",
                            "      <td>152.72</td>\n",
                            "      <td>7.03</td>\n",
                            "      <td>23.27</td>\n",
                            "      <td>1.37</td>\n",
                            "      <td>7.14</td>\n",
                            "      <td>112.78</td>\n",
                            "    </tr>\n",
                            "    <tr>\n",
                            "      <th>std</th>\n",
                            "      <td>10983108.39</td>\n",
                            "      <td>7.861097e+07</td>\n",
                            "      <td>0.05</td>\n",
                            "      <td>0.05</td>\n",
                            "      <td>240.15</td>\n",
                            "      <td>20.51</td>\n",
                            "      <td>44.55</td>\n",
                            "      <td>1.68</td>\n",
                            "      <td>32.95</td>\n",
                            "      <td>131.62</td>\n",
                            "    </tr>\n",
                            "    <tr>\n",
                            "      <th>min</th>\n",
                            "      <td>2539.00</td>\n",
                            "      <td>2.438000e+03</td>\n",
                            "      <td>40.50</td>\n",
                            "      <td>-74.24</td>\n",
                            "      <td>0.00</td>\n",
                            "      <td>1.00</td>\n",
                            "      <td>0.00</td>\n",
                            "      <td>0.01</td>\n",
                            "      <td>1.00</td>\n",
                            "      <td>0.00</td>\n",
                            "    </tr>\n",
                            "    <tr>\n",
                            "      <th>25%</th>\n",
                            "      <td>9471945.00</td>\n",
                            "      <td>7.822033e+06</td>\n",
                            "      <td>40.69</td>\n",
                            "      <td>-73.98</td>\n",
                            "      <td>69.00</td>\n",
                            "      <td>1.00</td>\n",
                            "      <td>1.00</td>\n",
                            "      <td>0.19</td>\n",
                            "      <td>1.00</td>\n",
                            "      <td>0.00</td>\n",
                            "    </tr>\n",
                            "    <tr>\n",
                            "      <th>50%</th>\n",
                            "      <td>19677284.00</td>\n",
                            "      <td>3.079382e+07</td>\n",
                            "      <td>40.72</td>\n",
                            "      <td>-73.96</td>\n",
                            "      <td>106.00</td>\n",
                            "      <td>3.00</td>\n",
                            "      <td>5.00</td>\n",
                            "      <td>0.72</td>\n",
                            "      <td>1.00</td>\n",
                            "      <td>45.00</td>\n",
                            "    </tr>\n",
                            "    <tr>\n",
                            "      <th>75%</th>\n",
                            "      <td>29152178.50</td>\n",
                            "      <td>1.074344e+08</td>\n",
                            "      <td>40.76</td>\n",
                            "      <td>-73.94</td>\n",
                            "      <td>175.00</td>\n",
                            "      <td>5.00</td>\n",
                            "      <td>24.00</td>\n",
                            "      <td>2.02</td>\n",
                            "      <td>2.00</td>\n",
                            "      <td>227.00</td>\n",
                            "    </tr>\n",
                            "    <tr>\n",
                            "      <th>max</th>\n",
                            "      <td>36487245.00</td>\n",
                            "      <td>2.743213e+08</td>\n",
                            "      <td>40.91</td>\n",
                            "      <td>-73.71</td>\n",
                            "      <td>10000.00</td>\n",
                            "      <td>1250.00</td>\n",
                            "      <td>629.00</td>\n",
                            "      <td>58.50</td>\n",
                            "      <td>327.00</td>\n",
                            "      <td>365.00</td>\n",
                            "    </tr>\n",
                            "  </tbody>\n",
                            "</table>\n",
                            "</div>"
                        ],
                        "text/plain": [
                            "                id       host_id  latitude  longitude     price  \\\n",
                            "count     48895.00  4.889500e+04  48895.00   48895.00  48895.00   \n",
                            "mean   19017143.24  6.762001e+07     40.73     -73.95    152.72   \n",
                            "std    10983108.39  7.861097e+07      0.05       0.05    240.15   \n",
                            "min        2539.00  2.438000e+03     40.50     -74.24      0.00   \n",
                            "25%     9471945.00  7.822033e+06     40.69     -73.98     69.00   \n",
                            "50%    19677284.00  3.079382e+07     40.72     -73.96    106.00   \n",
                            "75%    29152178.50  1.074344e+08     40.76     -73.94    175.00   \n",
                            "max    36487245.00  2.743213e+08     40.91     -73.71  10000.00   \n",
                            "\n",
                            "       minimum_nights  number_of_reviews  reviews_per_month  \\\n",
                            "count        48895.00           48895.00           38843.00   \n",
                            "mean             7.03              23.27               1.37   \n",
                            "std             20.51              44.55               1.68   \n",
                            "min              1.00               0.00               0.01   \n",
                            "25%              1.00               1.00               0.19   \n",
                            "50%              3.00               5.00               0.72   \n",
                            "75%              5.00              24.00               2.02   \n",
                            "max           1250.00             629.00              58.50   \n",
                            "\n",
                            "       calculated_host_listings_count  availability_365  \n",
                            "count                        48895.00          48895.00  \n",
                            "mean                             7.14            112.78  \n",
                            "std                             32.95            131.62  \n",
                            "min                              1.00              0.00  \n",
                            "25%                              1.00              0.00  \n",
                            "50%                              1.00             45.00  \n",
                            "75%                              2.00            227.00  \n",
                            "max                            327.00            365.00  "
                        ]
                    },
                    "execution_count": 12,
                    "metadata": {},
                    "output_type": "execute_result"
                }
            ],
            "source": [
                "# summary of all the numerical variables present in our data frame\n",
                "\n",
                "round(df.describe(),2)"
            ]
        },
        {
            "cell_type": "code",
            "execution_count": 13,
            "metadata": {},
            "outputs": [
                {
                    "data": {
                        "text/html": [
                            "<div>\n",
                            "<style scoped>\n",
                            "    .dataframe tbody tr th:only-of-type {\n",
                            "        vertical-align: middle;\n",
                            "    }\n",
                            "\n",
                            "    .dataframe tbody tr th {\n",
                            "        vertical-align: top;\n",
                            "    }\n",
                            "\n",
                            "    .dataframe thead th {\n",
                            "        text-align: right;\n",
                            "    }\n",
                            "</style>\n",
                            "<table border=\"1\" class=\"dataframe\">\n",
                            "  <thead>\n",
                            "    <tr style=\"text-align: right;\">\n",
                            "      <th></th>\n",
                            "      <th>name</th>\n",
                            "      <th>host_name</th>\n",
                            "      <th>neighbourhood_group</th>\n",
                            "      <th>neighbourhood</th>\n",
                            "      <th>room_type</th>\n",
                            "      <th>last_review</th>\n",
                            "    </tr>\n",
                            "  </thead>\n",
                            "  <tbody>\n",
                            "    <tr>\n",
                            "      <th>count</th>\n",
                            "      <td>48879</td>\n",
                            "      <td>48874</td>\n",
                            "      <td>48895</td>\n",
                            "      <td>48895</td>\n",
                            "      <td>48895</td>\n",
                            "      <td>38843</td>\n",
                            "    </tr>\n",
                            "    <tr>\n",
                            "      <th>unique</th>\n",
                            "      <td>47905</td>\n",
                            "      <td>11452</td>\n",
                            "      <td>5</td>\n",
                            "      <td>221</td>\n",
                            "      <td>3</td>\n",
                            "      <td>1764</td>\n",
                            "    </tr>\n",
                            "    <tr>\n",
                            "      <th>top</th>\n",
                            "      <td>Hillside Hotel</td>\n",
                            "      <td>Michael</td>\n",
                            "      <td>Manhattan</td>\n",
                            "      <td>Williamsburg</td>\n",
                            "      <td>Entire home/apt</td>\n",
                            "      <td>2019-06-23</td>\n",
                            "    </tr>\n",
                            "    <tr>\n",
                            "      <th>freq</th>\n",
                            "      <td>18</td>\n",
                            "      <td>417</td>\n",
                            "      <td>21661</td>\n",
                            "      <td>3920</td>\n",
                            "      <td>25409</td>\n",
                            "      <td>1413</td>\n",
                            "    </tr>\n",
                            "  </tbody>\n",
                            "</table>\n",
                            "</div>"
                        ],
                        "text/plain": [
                            "                  name host_name neighbourhood_group neighbourhood  \\\n",
                            "count            48879     48874               48895         48895   \n",
                            "unique           47905     11452                   5           221   \n",
                            "top     Hillside Hotel   Michael           Manhattan  Williamsburg   \n",
                            "freq                18       417               21661          3920   \n",
                            "\n",
                            "              room_type last_review  \n",
                            "count             48895       38843  \n",
                            "unique                3        1764  \n",
                            "top     Entire home/apt  2019-06-23  \n",
                            "freq              25409        1413  "
                        ]
                    },
                    "execution_count": 13,
                    "metadata": {},
                    "output_type": "execute_result"
                }
            ],
            "source": [
                "# summary of all the categorical variables present in our data frame\n",
                "df.describe(include = 'object')"
            ]
        },
        {
            "cell_type": "markdown",
            "metadata": {},
            "source": [
                "## Visualizations and finding relationships"
            ]
        },
        {
            "cell_type": "markdown",
            "metadata": {},
            "source": [
                "### Room type"
            ]
        },
        {
            "cell_type": "markdown",
            "metadata": {},
            "source": [
                "In the previous analysis we could see that there are 3 unique room values. Now we are interested in knowing the proportion of records by type of room."
            ]
        },
        {
            "cell_type": "code",
            "execution_count": 32,
            "metadata": {},
            "outputs": [
                {
                    "data": {
                        "text/plain": [
                            "Entire home/apt    25409\n",
                            "Private room       22326\n",
                            "Shared room         1160\n",
                            "Name: room_type, dtype: int64"
                        ]
                    },
                    "execution_count": 32,
                    "metadata": {},
                    "output_type": "execute_result"
                }
            ],
            "source": [
                "df[\"room_type\"].value_counts()"
            ]
        },
        {
            "cell_type": "code",
            "execution_count": 22,
            "metadata": {},
            "outputs": [
                {
                    "data": {
                        "image/png": "[encoded data removed]",
                        "text/plain": [
                            "<Figure size 432x288 with 1 Axes>"
                        ]
                    },
                    "metadata": {
                        "needs_background": "light"
                    },
                    "output_type": "display_data"
                }
            ],
            "source": [
                "df['room_type'].value_counts().plot(kind='bar')\n",
                "plt.show()"
            ]
        },
        {
            "cell_type": "markdown",
            "metadata": {},
            "source": [
                "The graph shows that the majority of rentals are from \"Entire home/apt\"."
            ]
        },
        {
            "cell_type": "markdown",
            "metadata": {},
            "source": [
                "### Neighbourhood Group"
            ]
        },
        {
            "cell_type": "markdown",
            "metadata": {},
            "source": [
                "In addition, there are 5 neighborhoods. Now we are interested in knowing how rents are distributed among these neighborhoods."
            ]
        },
        {
            "cell_type": "code",
            "execution_count": 31,
            "metadata": {},
            "outputs": [
                {
                    "data": {
                        "text/plain": [
                            "Manhattan        21661\n",
                            "Brooklyn         20104\n",
                            "Queens            5666\n",
                            "Bronx             1091\n",
                            "Staten Island      373\n",
                            "Name: neighbourhood_group, dtype: int64"
                        ]
                    },
                    "execution_count": 31,
                    "metadata": {},
                    "output_type": "execute_result"
                }
            ],
            "source": [
                "df[\"neighbourhood_group\"].value_counts()"
            ]
        },
        {
            "cell_type": "code",
            "execution_count": 24,
            "metadata": {},
            "outputs": [
                {
                    "data": {
                        "image/png": "[encoded data removed]",
                        "text/plain": [
                            "<Figure size 432x288 with 1 Axes>"
                        ]
                    },
                    "metadata": {
                        "needs_background": "light"
                    },
                    "output_type": "display_data"
                }
            ],
            "source": [
                "df['neighbourhood_group'].value_counts().plot(kind='bar')\n",
                "plt.show()"
            ]
        },
        {
            "cell_type": "markdown",
            "metadata": {},
            "source": [
                "Manhattan is the neighborhood with the most rentals, with Brooklyn in second place. There are fewer rentals in Queens, the Bronx, and Staten Island."
            ]
        },
        {
            "cell_type": "markdown",
            "metadata": {},
            "source": [
                "### Price"
            ]
        },
        {
            "cell_type": "markdown",
            "metadata": {},
            "source": [
                "We know that the price ranges from 0 to 10000. Now we created a histogram to see its distribution."
            ]
        },
        {
            "cell_type": "code",
            "execution_count": 26,
            "metadata": {},
            "outputs": [
                {
                    "data": {
                        "text/plain": [
                            "count    48895.000000\n",
                            "mean       152.720687\n",
                            "std        240.154170\n",
                            "min          0.000000\n",
                            "25%         69.000000\n",
                            "50%        106.000000\n",
                            "75%        175.000000\n",
                            "max      10000.000000\n",
                            "Name: price, dtype: float64"
                        ]
                    },
                    "execution_count": 26,
                    "metadata": {},
                    "output_type": "execute_result"
                }
            ],
            "source": [
                "df['price'].describe()"
            ]
        },
        {
            "cell_type": "code",
            "execution_count": 41,
            "metadata": {},
            "outputs": [
                {
                    "data": {
                        "image/png": "[encoded data removed]",
                        "text/plain": [
                            "<Figure size 540x360 with 1 Axes>"
                        ]
                    },
                    "metadata": {},
                    "output_type": "display_data"
                }
            ],
            "source": [
                "sns.displot(data=df, x=\"price\", kind=\"hist\", aspect=1.5)\n",
                "plt.show()"
            ]
        },
        {
            "cell_type": "markdown",
            "metadata": {},
            "source": [
                "The distribution is skewed because of the outliers with very high prices."
            ]
        },
        {
            "cell_type": "code",
            "execution_count": 43,
            "metadata": {},
            "outputs": [
                {
                    "data": {
                        "image/png": "[encoded data removed]",
                        "text/plain": [
                            "<Figure size 432x288 with 1 Axes>"
                        ]
                    },
                    "metadata": {},
                    "output_type": "display_data"
                }
            ],
            "source": [
                "figsize=(12,10)\n",
                "sns.set_style(\"darkgrid\")\n",
                "sns.boxenplot(x='price',data=df)\n",
                "plt.show()"
            ]
        },
        {
            "cell_type": "markdown",
            "metadata": {},
            "source": [
                "### Average price by room type"
            ]
        },
        {
            "cell_type": "code",
            "execution_count": 59,
            "metadata": {},
            "outputs": [
                {
                    "data": {
                        "text/html": [
                            "<div>\n",
                            "<style scoped>\n",
                            "    .dataframe tbody tr th:only-of-type {\n",
                            "        vertical-align: middle;\n",
                            "    }\n",
                            "\n",
                            "    .dataframe tbody tr th {\n",
                            "        vertical-align: top;\n",
                            "    }\n",
                            "\n",
                            "    .dataframe thead th {\n",
                            "        text-align: right;\n",
                            "    }\n",
                            "</style>\n",
                            "<table border=\"1\" class=\"dataframe\">\n",
                            "  <thead>\n",
                            "    <tr style=\"text-align: right;\">\n",
                            "      <th></th>\n",
                            "      <th>price</th>\n",
                            "    </tr>\n",
                            "    <tr>\n",
                            "      <th>room_type</th>\n",
                            "      <th></th>\n",
                            "    </tr>\n",
                            "  </thead>\n",
                            "  <tbody>\n",
                            "    <tr>\n",
                            "      <th>Shared room</th>\n",
                            "      <td>70.127586</td>\n",
                            "    </tr>\n",
                            "    <tr>\n",
                            "      <th>Private room</th>\n",
                            "      <td>89.780973</td>\n",
                            "    </tr>\n",
                            "    <tr>\n",
                            "      <th>Entire home/apt</th>\n",
                            "      <td>211.794246</td>\n",
                            "    </tr>\n",
                            "  </tbody>\n",
                            "</table>\n",
                            "</div>"
                        ],
                        "text/plain": [
                            "                      price\n",
                            "room_type                  \n",
                            "Shared room       70.127586\n",
                            "Private room      89.780973\n",
                            "Entire home/apt  211.794246"
                        ]
                    },
                    "execution_count": 59,
                    "metadata": {},
                    "output_type": "execute_result"
                }
            ],
            "source": [
                "df_price_room = df.groupby(['room_type'])['price'].mean().sort_values(ascending=True)\n",
                "pd.DataFrame(df_price_room)"
            ]
        },
        {
            "cell_type": "markdown",
            "metadata": {},
            "source": [
                "Renting a shared room is the cheapest type of room. "
            ]
        },
        {
            "cell_type": "markdown",
            "metadata": {},
            "source": [
                "### Average price by room type and neighbourhood."
            ]
        },
        {
            "cell_type": "code",
            "execution_count": 56,
            "metadata": {},
            "outputs": [
                {
                    "data": {
                        "text/html": [
                            "<div>\n",
                            "<style scoped>\n",
                            "    .dataframe tbody tr th:only-of-type {\n",
                            "        vertical-align: middle;\n",
                            "    }\n",
                            "\n",
                            "    .dataframe tbody tr th {\n",
                            "        vertical-align: top;\n",
                            "    }\n",
                            "\n",
                            "    .dataframe thead th {\n",
                            "        text-align: right;\n",
                            "    }\n",
                            "</style>\n",
                            "<table border=\"1\" class=\"dataframe\">\n",
                            "  <thead>\n",
                            "    <tr style=\"text-align: right;\">\n",
                            "      <th></th>\n",
                            "      <th></th>\n",
                            "      <th>price</th>\n",
                            "    </tr>\n",
                            "    <tr>\n",
                            "      <th>room_type</th>\n",
                            "      <th>neighbourhood_group</th>\n",
                            "      <th></th>\n",
                            "    </tr>\n",
                            "  </thead>\n",
                            "  <tbody>\n",
                            "    <tr>\n",
                            "      <th rowspan=\"5\" valign=\"top\">Entire home/apt</th>\n",
                            "      <th>Bronx</th>\n",
                            "      <td>127.506596</td>\n",
                            "    </tr>\n",
                            "    <tr>\n",
                            "      <th>Brooklyn</th>\n",
                            "      <td>178.327545</td>\n",
                            "    </tr>\n",
                            "    <tr>\n",
                            "      <th>Manhattan</th>\n",
                            "      <td>249.239109</td>\n",
                            "    </tr>\n",
                            "    <tr>\n",
                            "      <th>Queens</th>\n",
                            "      <td>147.050573</td>\n",
                            "    </tr>\n",
                            "    <tr>\n",
                            "      <th>Staten Island</th>\n",
                            "      <td>173.846591</td>\n",
                            "    </tr>\n",
                            "    <tr>\n",
                            "      <th rowspan=\"5\" valign=\"top\">Private room</th>\n",
                            "      <th>Bronx</th>\n",
                            "      <td>66.788344</td>\n",
                            "    </tr>\n",
                            "    <tr>\n",
                            "      <th>Brooklyn</th>\n",
                            "      <td>76.500099</td>\n",
                            "    </tr>\n",
                            "    <tr>\n",
                            "      <th>Manhattan</th>\n",
                            "      <td>116.776622</td>\n",
                            "    </tr>\n",
                            "    <tr>\n",
                            "      <th>Queens</th>\n",
                            "      <td>71.762456</td>\n",
                            "    </tr>\n",
                            "    <tr>\n",
                            "      <th>Staten Island</th>\n",
                            "      <td>62.292553</td>\n",
                            "    </tr>\n",
                            "    <tr>\n",
                            "      <th rowspan=\"5\" valign=\"top\">Shared room</th>\n",
                            "      <th>Bronx</th>\n",
                            "      <td>59.800000</td>\n",
                            "    </tr>\n",
                            "    <tr>\n",
                            "      <th>Brooklyn</th>\n",
                            "      <td>50.527845</td>\n",
                            "    </tr>\n",
                            "    <tr>\n",
                            "      <th>Manhattan</th>\n",
                            "      <td>88.977083</td>\n",
                            "    </tr>\n",
                            "    <tr>\n",
                            "      <th>Queens</th>\n",
                            "      <td>69.020202</td>\n",
                            "    </tr>\n",
                            "    <tr>\n",
                            "      <th>Staten Island</th>\n",
                            "      <td>57.444444</td>\n",
                            "    </tr>\n",
                            "  </tbody>\n",
                            "</table>\n",
                            "</div>"
                        ],
                        "text/plain": [
                            "                                          price\n",
                            "room_type       neighbourhood_group            \n",
                            "Entire home/apt Bronx                127.506596\n",
                            "                Brooklyn             178.327545\n",
                            "                Manhattan            249.239109\n",
                            "                Queens               147.050573\n",
                            "                Staten Island        173.846591\n",
                            "Private room    Bronx                 66.788344\n",
                            "                Brooklyn              76.500099\n",
                            "                Manhattan            116.776622\n",
                            "                Queens                71.762456\n",
                            "                Staten Island         62.292553\n",
                            "Shared room     Bronx                 59.800000\n",
                            "                Brooklyn              50.527845\n",
                            "                Manhattan             88.977083\n",
                            "                Queens                69.020202\n",
                            "                Staten Island         57.444444"
                        ]
                    },
                    "execution_count": 56,
                    "metadata": {},
                    "output_type": "execute_result"
                }
            ],
            "source": [
                "df1 = df.groupby(['room_type','neighbourhood_group'])['price'].mean()\n",
                "pd.DataFrame(df1).sort_values(by='room_type')"
            ]
        },
        {
            "cell_type": "code",
            "execution_count": 57,
            "metadata": {},
            "outputs": [
                {
                    "data": {
                        "image/png": "[encoded data removed]",
                        "text/plain": [
                            "<Figure size 864x576 with 1 Axes>"
                        ]
                    },
                    "metadata": {},
                    "output_type": "display_data"
                }
            ],
            "source": [
                "plt.figure(figsize=(12,8))\n",
                "df1 = df1.sort_values(ascending=True)\n",
                "df1.plot(kind='bar')\n",
                "plt.title('Average Price for rooms in neighbourhood group')\n",
                "plt.ylabel('Average Daily Price')\n",
                "plt.xlabel('Neighbourhood Group')\n",
                "plt.show()"
            ]
        },
        {
            "cell_type": "markdown",
            "metadata": {},
            "source": [
                "Prices vary by neighborhood. Manhattan is the neighborhood where it is more expensive to rent."
            ]
        },
        {
            "cell_type": "markdown",
            "metadata": {},
            "source": [
                "### Hosts"
            ]
        },
        {
            "cell_type": "markdown",
            "metadata": {},
            "source": [
                "We want to know the top 10 hosts, based on reviews."
            ]
        },
        {
            "cell_type": "code",
            "execution_count": 42,
            "metadata": {},
            "outputs": [
                {
                    "data": {
                        "text/html": [
                            "<div>\n",
                            "<style scoped>\n",
                            "    .dataframe tbody tr th:only-of-type {\n",
                            "        vertical-align: middle;\n",
                            "    }\n",
                            "\n",
                            "    .dataframe tbody tr th {\n",
                            "        vertical-align: top;\n",
                            "    }\n",
                            "\n",
                            "    .dataframe thead th {\n",
                            "        text-align: right;\n",
                            "    }\n",
                            "</style>\n",
                            "<table border=\"1\" class=\"dataframe\">\n",
                            "  <thead>\n",
                            "    <tr style=\"text-align: right;\">\n",
                            "      <th></th>\n",
                            "      <th></th>\n",
                            "      <th>number_of_reviews</th>\n",
                            "    </tr>\n",
                            "    <tr>\n",
                            "      <th>host_id</th>\n",
                            "      <th>host_name</th>\n",
                            "      <th></th>\n",
                            "    </tr>\n",
                            "  </thead>\n",
                            "  <tbody>\n",
                            "    <tr>\n",
                            "      <th>37312959</th>\n",
                            "      <th>Maya</th>\n",
                            "      <td>2273</td>\n",
                            "    </tr>\n",
                            "    <tr>\n",
                            "      <th>344035</th>\n",
                            "      <th>Brooklyn&amp;   Breakfast    -Len-</th>\n",
                            "      <td>2205</td>\n",
                            "    </tr>\n",
                            "    <tr>\n",
                            "      <th>26432133</th>\n",
                            "      <th>Danielle</th>\n",
                            "      <td>2017</td>\n",
                            "    </tr>\n",
                            "    <tr>\n",
                            "      <th>35524316</th>\n",
                            "      <th>Yasu &amp; Akiko</th>\n",
                            "      <td>1971</td>\n",
                            "    </tr>\n",
                            "    <tr>\n",
                            "      <th>40176101</th>\n",
                            "      <th>Brady</th>\n",
                            "      <td>1818</td>\n",
                            "    </tr>\n",
                            "    <tr>\n",
                            "      <th>4734398</th>\n",
                            "      <th>Jj</th>\n",
                            "      <td>1798</td>\n",
                            "    </tr>\n",
                            "    <tr>\n",
                            "      <th>16677326</th>\n",
                            "      <th>Alex And Zeena</th>\n",
                            "      <td>1355</td>\n",
                            "    </tr>\n",
                            "    <tr>\n",
                            "      <th>6885157</th>\n",
                            "      <th>Randy</th>\n",
                            "      <td>1346</td>\n",
                            "    </tr>\n",
                            "    <tr>\n",
                            "      <th>219517861</th>\n",
                            "      <th>Sonder (NYC)</th>\n",
                            "      <td>1281</td>\n",
                            "    </tr>\n",
                            "    <tr>\n",
                            "      <th>23591164</th>\n",
                            "      <th>Angela</th>\n",
                            "      <td>1269</td>\n",
                            "    </tr>\n",
                            "  </tbody>\n",
                            "</table>\n",
                            "</div>"
                        ],
                        "text/plain": [
                            "                                          number_of_reviews\n",
                            "host_id   host_name                                        \n",
                            "37312959  Maya                                         2273\n",
                            "344035    Brooklyn&   Breakfast    -Len-               2205\n",
                            "26432133  Danielle                                     2017\n",
                            "35524316  Yasu & Akiko                                 1971\n",
                            "40176101  Brady                                        1818\n",
                            "4734398   Jj                                           1798\n",
                            "16677326  Alex And Zeena                               1355\n",
                            "6885157   Randy                                        1346\n",
                            "219517861 Sonder (NYC)                                 1281\n",
                            "23591164  Angela                                       1269"
                        ]
                    },
                    "execution_count": 42,
                    "metadata": {},
                    "output_type": "execute_result"
                }
            ],
            "source": [
                "df_top10 = df.groupby(['host_id','host_name'])['number_of_reviews'].sum().sort_values(ascending=False)\n",
                "pd.DataFrame(df_top10).head(10)"
            ]
        },
        {
            "cell_type": "markdown",
            "metadata": {},
            "source": [
                "Listings per hosts"
            ]
        },
        {
            "cell_type": "code",
            "execution_count": null,
            "metadata": {},
            "outputs": [],
            "source": [
                "df['host_id', 'host_name', 'calculated_host_listings_count'].head(10)"
            ]
        },
        {
            "cell_type": "code",
            "execution_count": null,
            "metadata": {},
            "outputs": [],
            "source": []
        },
        {
            "cell_type": "markdown",
            "metadata": {},
            "source": [
                "### Plot location of rentals on a map"
            ]
        },
        {
            "cell_type": "code",
            "execution_count": 44,
            "metadata": {},
            "outputs": [],
            "source": [
                "map = folium.Map()\n",
                "mc=MarkerCluster().add_to(map)\n",
                "\n",
                "for i in range(len(df)):\n",
                "  lat=df['latitude'].to_list()[i]\n",
                "  lon=df['longitude'].to_list()[i]\n",
                "  folium.Marker(location=[lat,lon],icon=folium.Icon(color='red',icon='check',prefix='fa')).add_to(mc)\n",
                "map "
            ]
        },
        {
            "cell_type": "markdown",
            "metadata": {},
            "source": [
                "## Clean data"
            ]
        },
        {
            "cell_type": "code",
            "execution_count": null,
            "metadata": {},
            "outputs": [],
            "source": []
        }
    ],
    "metadata": {
        "kernelspec": {
            "display_name": "Python 3.8.13 64-bit ('3.8.13')",
            "language": "python",
            "name": "python3"
        },
        "language_info": {
            "codemirror_mode": {
                "name": "ipython",
                "version": 3
            },
            "file_extension": ".py",
            "mimetype": "text/x-python",
            "name": "python",
            "nbconvert_exporter": "python",
            "pygments_lexer": "ipython3",
            "version": "3.8.13"
        },
        "orig_nbformat": 4,
        "vscode": {
            "interpreter": {
                "hash": "110cc1dee26208153f2972f08a2ad52b6a56238dc66d48e87fb757ef2996db56"
            }
        }
    },
    "nbformat": 4,
    "nbformat_minor": 2
}
